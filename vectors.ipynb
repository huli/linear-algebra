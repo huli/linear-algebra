{
 "cells": [
  {
   "cell_type": "markdown",
   "metadata": {},
   "source": [
    "# A simplistic Vector class"
   ]
  },
  {
   "cell_type": "markdown",
   "metadata": {},
   "source": [
    "A very simplistic vector class for some linear algebra experimentation"
   ]
  },
  {
   "cell_type": "code",
   "execution_count": 37,
   "metadata": {
    "collapsed": true
   },
   "outputs": [],
   "source": [
    "import math\n",
    "\n",
    "class Vector(object):\n",
    "    def __init__(self, coordinates):\n",
    "        try:\n",
    "            if not coordinates:\n",
    "                raise ValueError\n",
    "            self.coordinates = coordinates\n",
    "            self.dimensions = len(coordinates)\n",
    "\n",
    "        except ValueError:\n",
    "            raise ValueError(\"The coordinates must be non empty\")\n",
    "\n",
    "        except TypeError:\n",
    "            raise TypeError(\"The coordinates must be an iterable\")\n",
    "\n",
    "    def __getitem__(self, i):\n",
    "        return self.coordinates[i]\n",
    "    \n",
    "    def __setitem__(self, i, value):\n",
    "        self.coordinates[i] = value\n",
    "    \n",
    "    def __str__(self):\n",
    "        return 'Vector {}'.format(self.coordinates)\n",
    "\n",
    "    def __eq__(self, other):\n",
    "        return self.coordinates == other.coordinates\n",
    "    \n",
    "    def __len__(self):\n",
    "        return self.dimensions\n",
    "    \n",
    "    def __add__(self, other):\n",
    "        if len(self) != len(other):\n",
    "            raise ArithmeticError(\"Not  matching dimensions\")\n",
    "        sum = [x+y for x, y in zip(self.coordinates, other.coordinates)]\n",
    "        return Vector(sum)\n",
    "        \n",
    "    def __sub__(self, other):\n",
    "        if len(self) != len(other):\n",
    "            raise ArithmeticError(\"Not  matching dimensions\")\n",
    "        diff = [x-y for x, y in zip(self.coordinates, other.coordinates)]\n",
    "        return Vector(diff)\n",
    "    \n",
    "    def __rmul__(self, other):\n",
    "        if not isinstance(other, float):\n",
    "            raise ArithmeticError(\"Not  matching dimensions\")\n",
    "        product = [x * other for x in self.coordinates]\n",
    "        return Vector(product)\n",
    "    \n",
    "    def magnitude(self):\n",
    "        magnitude_squared = [x**2 for x in self.coordinates];\n",
    "        return sum(magnitude_squared)**(.5)\n",
    "    \n",
    "    def normalize(self):\n",
    "        try:\n",
    "            magnitude = self.magnitude()\n",
    "            return (1./magnitude) * self\n",
    "        except ZeroDivisionError:\n",
    "            raise Exception('Cannot normalize the zero vector')\n",
    "            \n",
    "    def dot_prod(self, other):\n",
    "        product = [x*y for x, y in zip(self.coordinates, other.coordinates)]\n",
    "        sum = 0\n",
    "        for v in product:\n",
    "            sum += v;\n",
    "        return sum\n",
    "        \n",
    "    def angle(self, other, is_degree = False):\n",
    "        if is_degree:\n",
    "            return angle_grad(self, other)\n",
    "        return math.acos((self.dot_prod(other))\n",
    "                         /(self.magnitude() * other.magnitude()))\n",
    "    \n",
    "    def angle_grad(self, other):\n",
    "        return self.angle(other) * (180.0 / math.pi)\n",
    "    \n",
    "    def is_orthogonal_to(self, other, tolerance = 1e-10):\n",
    "        return abs(self.dot_prod(other)) < tolerance\n",
    "    \n",
    "    def is_parallel_to(self, other):\n",
    "        return (self.is_zero() or other.is_zero() or \\\n",
    "            self.angle(other) == 0 or \\\n",
    "            self.angle(other) == pi)\n",
    "                \n",
    "    def is_zero(self, tolerance = 1e-10):\n",
    "        return self.magnitude() < tolerance\n",
    "    \n",
    "    def component_parallel_to(self, basis):\n",
    "        \n",
    "        if basis.is_zero():\n",
    "            raise Exception(\"There is not unique parallel component to the zero vector\")\n",
    "            \n",
    "        # Calculating unit vector\n",
    "        u = basis.normalize()\n",
    "        weight = self.dot_prod(u)\n",
    "        return (weight *  u)\n",
    "    \n",
    "    def component_orthogonal_to(self, basis):\n",
    "        \n",
    "        if basis.is_zero():\n",
    "            raise Exception(\"There is not unique orthogonal component to the zero vector\")\n",
    "            \n",
    "        projection = self.component_parallel_to(basis)\n",
    "        return (self - projection)"
   ]
  },
  {
   "cell_type": "markdown",
   "metadata": {},
   "source": [
    "### Basic behavior"
   ]
  },
  {
   "cell_type": "code",
   "execution_count": 2,
   "metadata": {},
   "outputs": [
    {
     "data": {
      "text/plain": [
       "True"
      ]
     },
     "execution_count": 2,
     "metadata": {},
     "output_type": "execute_result"
    }
   ],
   "source": [
    "Vector([1,2,3,4]) == Vector([1,2,3,4])"
   ]
  },
  {
   "cell_type": "code",
   "execution_count": 3,
   "metadata": {},
   "outputs": [
    {
     "data": {
      "text/plain": [
       "False"
      ]
     },
     "execution_count": 3,
     "metadata": {},
     "output_type": "execute_result"
    }
   ],
   "source": [
    "Vector([1,2,3,4]) == Vector([-1,2,3,4])"
   ]
  },
  {
   "cell_type": "code",
   "execution_count": 4,
   "metadata": {},
   "outputs": [
    {
     "name": "stdout",
     "output_type": "stream",
     "text": [
      "Vector [3, 4, 5]\n"
     ]
    }
   ],
   "source": [
    "print(Vector([3,4,5]))"
   ]
  },
  {
   "cell_type": "markdown",
   "metadata": {},
   "source": [
    "### Addition, subtraction and multiplication"
   ]
  },
  {
   "cell_type": "code",
   "execution_count": 5,
   "metadata": {},
   "outputs": [
    {
     "name": "stdout",
     "output_type": "stream",
     "text": [
      "Vector [7.089, -7.229999999999999]\n"
     ]
    }
   ],
   "source": [
    "print(Vector([8.218, -9.341]) + Vector([-1.129, 2.111]))"
   ]
  },
  {
   "cell_type": "code",
   "execution_count": 6,
   "metadata": {},
   "outputs": [
    {
     "name": "stdout",
     "output_type": "stream",
     "text": [
      "Vector [15.342, 7.337]\n"
     ]
    }
   ],
   "source": [
    "print(Vector([7.119, 8.215]) - Vector([-8.223, 0.878]))"
   ]
  },
  {
   "cell_type": "code",
   "execution_count": 7,
   "metadata": {},
   "outputs": [
    {
     "name": "stdout",
     "output_type": "stream",
     "text": [
      "Vector [12.38211, -7.49892, -2.35638]\n"
     ]
    }
   ],
   "source": [
    "print(7.41 * Vector([1.671, -1.012, -0.318]))"
   ]
  },
  {
   "cell_type": "markdown",
   "metadata": {},
   "source": [
    "### Magnitude and Direction"
   ]
  },
  {
   "cell_type": "code",
   "execution_count": 8,
   "metadata": {},
   "outputs": [
    {
     "data": {
      "text/plain": [
       "5.477225575051661"
      ]
     },
     "execution_count": 8,
     "metadata": {},
     "output_type": "execute_result"
    }
   ],
   "source": [
    "Vector([1,2,3,4]).magnitude()"
   ]
  },
  {
   "cell_type": "markdown",
   "metadata": {},
   "source": [
    "Direction represented as unit vector (after normalization)"
   ]
  },
  {
   "cell_type": "code",
   "execution_count": 9,
   "metadata": {},
   "outputs": [
    {
     "name": "stdout",
     "output_type": "stream",
     "text": [
      "Vector [-0.5773502691896258, 0.5773502691896258, 0.5773502691896258]\n"
     ]
    }
   ],
   "source": [
    "print(Vector([-1,1,1]).normalize())"
   ]
  },
  {
   "cell_type": "markdown",
   "metadata": {},
   "source": [
    "Now, the magnitude of the unit vector should be the unit vector of length 1"
   ]
  },
  {
   "cell_type": "code",
   "execution_count": 10,
   "metadata": {},
   "outputs": [
    {
     "data": {
      "text/plain": [
       "1.0"
      ]
     },
     "execution_count": 10,
     "metadata": {},
     "output_type": "execute_result"
    }
   ],
   "source": [
    "v = Vector([-1,1,1]).normalize()\n",
    "v.magnitude()"
   ]
  },
  {
   "cell_type": "markdown",
   "metadata": {},
   "source": [
    "### Dot Product (Inner Product) and Angle"
   ]
  },
  {
   "cell_type": "markdown",
   "metadata": {},
   "source": [
    "The Dot Product of v1 and v2  satisified following identity:\n",
    "\n",
    "$$ \\vec{v} * \\vec{w} = \\|\\vec{v}\\| * \\|\\vec{w}\\| * cos\\theta$$\n",
    "\n",
    "so\n",
    "\n",
    "$$ \\theta = arccos(\\frac{\\vec{v} * \\vec{w}}{\\|\\vec{v}\\| * \\|\\vec{w}\\| })$$"
   ]
  },
  {
   "cell_type": "code",
   "execution_count": 11,
   "metadata": {},
   "outputs": [
    {
     "name": "stdout",
     "output_type": "stream",
     "text": [
      "5\n"
     ]
    }
   ],
   "source": [
    "v = Vector([1,2,-1])\n",
    "w = Vector([3,1,0])\n",
    "prod = v.dot_prod(w)\n",
    "print(prod)"
   ]
  },
  {
   "cell_type": "code",
   "execution_count": 12,
   "metadata": {},
   "outputs": [
    {
     "data": {
      "text/plain": [
       "0.8691222030072928"
      ]
     },
     "execution_count": 12,
     "metadata": {},
     "output_type": "execute_result"
    }
   ],
   "source": [
    "v.angle(w)"
   ]
  },
  {
   "cell_type": "code",
   "execution_count": 13,
   "metadata": {},
   "outputs": [
    {
     "data": {
      "text/plain": [
       "49.79703411343022"
      ]
     },
     "execution_count": 13,
     "metadata": {},
     "output_type": "execute_result"
    }
   ],
   "source": [
    "v.angle_grad(w)"
   ]
  },
  {
   "cell_type": "markdown",
   "metadata": {},
   "source": [
    "And we check the identity"
   ]
  },
  {
   "cell_type": "code",
   "execution_count": 14,
   "metadata": {},
   "outputs": [
    {
     "data": {
      "text/plain": [
       "True"
      ]
     },
     "execution_count": 14,
     "metadata": {},
     "output_type": "execute_result"
    }
   ],
   "source": [
    "v.dot_prod(w) == v.magnitude() * w.magnitude() * math.cos(v.angle(w))"
   ]
  },
  {
   "cell_type": "markdown",
   "metadata": {
    "collapsed": true
   },
   "source": [
    "### Parallel and orthogonal Vectors"
   ]
  },
  {
   "cell_type": "markdown",
   "metadata": {},
   "source": [
    "We check our implementation with a simple vector with a zero x, respectively y component"
   ]
  },
  {
   "cell_type": "code",
   "execution_count": 15,
   "metadata": {},
   "outputs": [
    {
     "data": {
      "text/plain": [
       "True"
      ]
     },
     "execution_count": 15,
     "metadata": {},
     "output_type": "execute_result"
    }
   ],
   "source": [
    "v1 = Vector([1,0])\n",
    "v2 = Vector([0,1])\n",
    "v1.is_orthogonal_to(v2)"
   ]
  },
  {
   "cell_type": "markdown",
   "metadata": {},
   "source": [
    "The zero vector is orthogonal to itself as well"
   ]
  },
  {
   "cell_type": "code",
   "execution_count": 16,
   "metadata": {},
   "outputs": [
    {
     "data": {
      "text/plain": [
       "True"
      ]
     },
     "execution_count": 16,
     "metadata": {},
     "output_type": "execute_result"
    }
   ],
   "source": [
    "v0 = Vector([0,0])\n",
    "v0.is_orthogonal_to(v0)"
   ]
  },
  {
   "cell_type": "markdown",
   "metadata": {},
   "source": [
    "Next, we validate our is_parallel_to function. Any vector is parallel to itself."
   ]
  },
  {
   "cell_type": "code",
   "execution_count": 17,
   "metadata": {},
   "outputs": [
    {
     "data": {
      "text/plain": [
       "True"
      ]
     },
     "execution_count": 17,
     "metadata": {},
     "output_type": "execute_result"
    }
   ],
   "source": [
    "v1 = Vector([4,5])\n",
    "v1.is_parallel_to(v1)"
   ]
  },
  {
   "cell_type": "markdown",
   "metadata": {},
   "source": [
    "The zero vector is not only orthogonal, but parallel to itself as well."
   ]
  },
  {
   "cell_type": "code",
   "execution_count": 18,
   "metadata": {},
   "outputs": [
    {
     "data": {
      "text/plain": [
       "True"
      ]
     },
     "execution_count": 18,
     "metadata": {},
     "output_type": "execute_result"
    }
   ],
   "source": [
    "v0 = Vector([0,0])\n",
    "v0.is_parallel_to(v0)"
   ]
  },
  {
   "cell_type": "markdown",
   "metadata": {},
   "source": [
    "But more than that, the zero vector is also parallel to any other vector."
   ]
  },
  {
   "cell_type": "code",
   "execution_count": 19,
   "metadata": {},
   "outputs": [
    {
     "data": {
      "text/plain": [
       "True"
      ]
     },
     "execution_count": 19,
     "metadata": {},
     "output_type": "execute_result"
    }
   ],
   "source": [
    "v0.is_parallel_to(Vector([5,6]))"
   ]
  },
  {
   "cell_type": "markdown",
   "metadata": {
    "collapsed": true
   },
   "source": [
    "### Projecting Vectors\n",
    "Projecting vectors onto other vectors and calculating their orthogonal and parallel component"
   ]
  },
  {
   "cell_type": "code",
   "execution_count": 38,
   "metadata": {},
   "outputs": [
    {
     "name": "stdout",
     "output_type": "stream",
     "text": [
      "Vector [1.082606962484467, 2.671742758325303]\n"
     ]
    }
   ],
   "source": [
    "v1 = Vector([3.039, 1.879])\n",
    "v2 = Vector([0.825, 2.036])\n",
    "v = v1.component_parallel_to(v2)\n",
    "print(v)"
   ]
  },
  {
   "cell_type": "code",
   "execution_count": 39,
   "metadata": {},
   "outputs": [
    {
     "name": "stdout",
     "output_type": "stream",
     "text": [
      "Vector [-8.350081043195763, 3.376061254287722, -1.4337460427811841]\n"
     ]
    }
   ],
   "source": [
    "v1 = Vector([-9.88, -3.264, -8.159])\n",
    "v2 = Vector([-2.155, -9.353, -9.473])\n",
    "v = v1.component_orthogonal_to(v2)\n",
    "print(v)"
   ]
  },
  {
   "cell_type": "code",
   "execution_count": null,
   "metadata": {
    "collapsed": true
   },
   "outputs": [],
   "source": []
  }
 ],
 "metadata": {
  "kernelspec": {
   "display_name": "Python 3",
   "language": "python",
   "name": "python3"
  },
  "language_info": {
   "codemirror_mode": {
    "name": "ipython",
    "version": 3
   },
   "file_extension": ".py",
   "mimetype": "text/x-python",
   "name": "python",
   "nbconvert_exporter": "python",
   "pygments_lexer": "ipython3",
   "version": "3.6.1"
  }
 },
 "nbformat": 4,
 "nbformat_minor": 2
}
