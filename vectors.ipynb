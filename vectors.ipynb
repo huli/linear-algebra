{
 "cells": [
  {
   "cell_type": "code",
   "execution_count": 151,
   "metadata": {},
   "outputs": [],
   "source": [
    "class Vector(object):\n",
    "    def __init__(self, coordinates):\n",
    "        try:\n",
    "            if not coordinates:\n",
    "                raise ValueError\n",
    "            self.coordinates = coordinates\n",
    "            self.dimensions = len(coordinates)\n",
    "\n",
    "        except ValueError:\n",
    "            raise ValueError(\"The coordinates must be non empty\")\n",
    "\n",
    "        except TypeError:\n",
    "            raise TypeError(\"The coordinates must be an iterable\")\n",
    "\n",
    "    def __getitem__(self, i):\n",
    "        return self.coordinates[i]\n",
    "    \n",
    "    def __setitem__(self, i, value):\n",
    "        self.coordinates[i] = value\n",
    "    \n",
    "    def __str__(self):\n",
    "        return 'Vector {}'.format(self.coordinates)\n",
    "\n",
    "    def __eq__(self, other):\n",
    "        return self.coordinates == other.coordinates\n",
    "    \n",
    "    def __len__(self):\n",
    "        return self.dimensions\n",
    "    \n",
    "    def __add__(self, other):\n",
    "        if len(self) != len(other):\n",
    "            raise ArithmeticError(\"Not  matching dimensions\")\n",
    "        sum = [x+y for x, y in zip(self.coordinates, other.coordinates)]\n",
    "        return Vector(sum)\n",
    "        \n",
    "    def __sub__(self, other):\n",
    "        if len(self) != len(other):\n",
    "            raise ArithmeticError(\"Not  matching dimensions\")\n",
    "        diff = [x-y for x, y in zip(self.coordinates, other.coordinates)]\n",
    "        return Vector(diff)\n",
    "    \n",
    "    def __rmul__(self, other):\n",
    "        if not isinstance(other, float):\n",
    "            raise ArithmeticError(\"Not  matching dimensions\")\n",
    "        product = [x * other for x in self.coordinates]\n",
    "        return Vector(product)"
   ]
  },
  {
   "cell_type": "code",
   "execution_count": 152,
   "metadata": {},
   "outputs": [
    {
     "data": {
      "text/plain": [
       "True"
      ]
     },
     "execution_count": 152,
     "metadata": {},
     "output_type": "execute_result"
    }
   ],
   "source": [
    "Vector([1,2,3,4]) == Vector([1,2,3,4])"
   ]
  },
  {
   "cell_type": "code",
   "execution_count": 153,
   "metadata": {},
   "outputs": [
    {
     "data": {
      "text/plain": [
       "False"
      ]
     },
     "execution_count": 153,
     "metadata": {},
     "output_type": "execute_result"
    }
   ],
   "source": [
    "Vector([1,2,3,4]) == Vector([-1,2,3,4])"
   ]
  },
  {
   "cell_type": "code",
   "execution_count": 154,
   "metadata": {},
   "outputs": [
    {
     "name": "stdout",
     "output_type": "stream",
     "text": [
      "Vector [3, 4, 5]\n"
     ]
    }
   ],
   "source": [
    "print(Vector([3,4,5]))"
   ]
  },
  {
   "cell_type": "code",
   "execution_count": 155,
   "metadata": {},
   "outputs": [
    {
     "name": "stdout",
     "output_type": "stream",
     "text": [
      "Vector [7.089, -7.229999999999999]\n"
     ]
    }
   ],
   "source": [
    "print(Vector([8.218, -9.341]) + Vector([-1.129, 2.111]))"
   ]
  },
  {
   "cell_type": "code",
   "execution_count": 156,
   "metadata": {},
   "outputs": [
    {
     "name": "stdout",
     "output_type": "stream",
     "text": [
      "Vector [15.342, 7.337]\n"
     ]
    }
   ],
   "source": [
    "print(Vector([7.119, 8.215]) - Vector([-8.223, 0.878]))"
   ]
  },
  {
   "cell_type": "code",
   "execution_count": 157,
   "metadata": {},
   "outputs": [
    {
     "name": "stdout",
     "output_type": "stream",
     "text": [
      "Vector [12.38211, -7.49892, -2.35638]\n"
     ]
    }
   ],
   "source": [
    "print(7.41 * Vector([1.671, -1.012, -0.318]))"
   ]
  },
  {
   "cell_type": "code",
   "execution_count": null,
   "metadata": {
    "collapsed": true
   },
   "outputs": [],
   "source": []
  }
 ],
 "metadata": {
  "kernelspec": {
   "display_name": "Python 3",
   "language": "python",
   "name": "python3"
  },
  "language_info": {
   "codemirror_mode": {
    "name": "ipython",
    "version": 3
   },
   "file_extension": ".py",
   "mimetype": "text/x-python",
   "name": "python",
   "nbconvert_exporter": "python",
   "pygments_lexer": "ipython3",
   "version": "3.6.1"
  }
 },
 "nbformat": 4,
 "nbformat_minor": 2
}
